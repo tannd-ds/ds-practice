{
 "cells": [
  {
   "cell_type": "markdown",
   "metadata": {},
   "source": [
    "# Statistics - Ranges and Quartiles\n",
    "## Ranges\n",
    "In general, we have `Range` to indicate some information about how our Data spreads out.\n",
    "\n",
    "`Range` can be easily calculated using a simple formula: $Range = Largest - Smallest$\n",
    "- $Largest$ is **the Largest Value** in our Data, or we can called **`Upper Bound`**.\n",
    "- In contrast, $Smallest$ is **the Smallest Value** in our Data, called **`Lower Bound`**.\n",
    "\n",
    "For this particular Dataset:\n",
    "<img src='./images/score-table.png' width='25%' />\n",
    "- We can easily find that the `Lower Bound` and the `Upper Bound` is `5` and `10`, respectively.\n",
    "- So the `Range` is `Range = Upper Bound - Lower Bound = 10 - 5 = 5`, which can be concluded that this dataset is distributed in range of `5`, quite good, isn't it?"
   ]
  },
  {
   "cell_type": "markdown",
   "metadata": {},
   "source": [
    "But in some cases, the `Range` is not that good and can even mislead us to a wrong conclusion. Consider the following Dataset:\n",
    "<img src='./images/score-table-w-outlier.png' width='25%'/>\n",
    "- It's the same as the previous dataset, the only different is that we have a `0` score, and the `Lower Bound` is now `0`.\n",
    "- So `Range = Upper Bound - Lower Bound = 10 - 0 = 10`, which is dramatically different from the previous one, now it's twice of it.\n",
    "- Then if we use this `Range` to say that the `Score` is distributed from `0` to `10`, we ended up with a wrong conclusion.\n",
    "- The truth is, our data is only varied from `5` to `10` like the previous Dataset, and it has one Outlier `0`.\n",
    "\n",
    "**Conclusions:**:\n",
    "- The `Range` is very sensible to Outliers.\n",
    "- And it can easily mislead us if we don't analyze it carefully."
   ]
  },
  {
   "cell_type": "markdown",
   "metadata": {},
   "source": [
    "## Interquartile Range (IQR) - Solution to a sensible Range\n",
    "Fortunately, we can easily solve the weakness of `Range` using `IQR` - a small range which is less sensible to Outliers.\n",
    "\n",
    "We can understand IQR as a Range of central 50% of our Data.\n",
    "<img src='./images/interquartile-range.png' />\n",
    "\n",
    "To calculate the IQR:\n",
    "- First we have to find the `Q1` and `Q3` of our Data\n",
    "    + `Q1` is known as **The Lower Quartile**, which located at the 25% position of our Data sorting ascendingly.\n",
    "    + `Q3` is known as **The Upper Quartile**, which located at the 75% position of our Data sorting ascendingly.\n",
    "    + We also have `Q2`, which is in the middle of the Data, **Median**.\n",
    "- Then the IQR is calculated as follow: $IQR = Q3 - Q1$\n",
    "\n",
    "Let's use the previou Dataset\n",
    "<img src='./images/score-table-w-outlier.png' width='25%'/>\n",
    "After writing all the `Score` ascendingly, we see that `Q1` and `Q3` is `6` and `8` respectively, so the `IQR` is `IQR = Q3 - Q1 = 8 - 6 = 2`.\n",
    "- It's understandable since the marjor of our data is around `7`, then the `IQR` from `6` to `8` is good, and a lot better than `Range 10`.\n",
    "- The `IQR` using only 50% of the data, then it can efficiently ignore all the Outliers, giving us a better and more accurate range of data.\n",
    "<hr>\n",
    "\n",
    "For a better and deeper definition and usage of `Range`, `IQR`, or how to find `Q1`, `Q2` and `Q3`, we can find in the Book **`Head First Statistics`**, a wonderful book about Statistics.\n",
    "<img src='./images/head-first-statistics.jpg' width = '50%'/>"
   ]
  }
 ],
 "metadata": {
  "kernelspec": {
   "display_name": "Python 3 (ipykernel)",
   "language": "python",
   "name": "python3"
  },
  "language_info": {
   "codemirror_mode": {
    "name": "ipython",
    "version": 3
   },
   "file_extension": ".py",
   "mimetype": "text/x-python",
   "name": "python",
   "nbconvert_exporter": "python",
   "pygments_lexer": "ipython3",
   "version": "3.9.7"
  }
 },
 "nbformat": 4,
 "nbformat_minor": 2
}
