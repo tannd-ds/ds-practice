{
 "cells": [
  {
   "cell_type": "code",
   "execution_count": 84,
   "id": "62164dac",
   "metadata": {},
   "outputs": [],
   "source": [
    "import pandas as pd\n",
    "import numpy as np\n",
    "import matplotlib.pyplot as plt\n",
    "import matplotlib as mpl"
   ]
  },
  {
   "cell_type": "code",
   "execution_count": 4,
   "id": "7dc48919",
   "metadata": {},
   "outputs": [],
   "source": [
    "df = pd.read_excel(\"./datasets/marketing-campaign.xlsx\")"
   ]
  },
  {
   "cell_type": "code",
   "execution_count": 70,
   "id": "68088ecb",
   "metadata": {
    "scrolled": true
   },
   "outputs": [
    {
     "data": {
      "text/html": [
       "<div>\n",
       "<style scoped>\n",
       "    .dataframe tbody tr th:only-of-type {\n",
       "        vertical-align: middle;\n",
       "    }\n",
       "\n",
       "    .dataframe tbody tr th {\n",
       "        vertical-align: top;\n",
       "    }\n",
       "\n",
       "    .dataframe thead th {\n",
       "        text-align: right;\n",
       "    }\n",
       "</style>\n",
       "<table border=\"1\" class=\"dataframe\">\n",
       "  <thead>\n",
       "    <tr style=\"text-align: right;\">\n",
       "      <th></th>\n",
       "      <th>Year_Range</th>\n",
       "      <th>Frequency</th>\n",
       "    </tr>\n",
       "  </thead>\n",
       "  <tbody>\n",
       "    <tr>\n",
       "      <th>0</th>\n",
       "      <td>1892-1950</td>\n",
       "      <td>139</td>\n",
       "    </tr>\n",
       "    <tr>\n",
       "      <th>1</th>\n",
       "      <td>1951-1960</td>\n",
       "      <td>480</td>\n",
       "    </tr>\n",
       "    <tr>\n",
       "      <th>2</th>\n",
       "      <td>1961-1970</td>\n",
       "      <td>534</td>\n",
       "    </tr>\n",
       "    <tr>\n",
       "      <th>3</th>\n",
       "      <td>1971-1980</td>\n",
       "      <td>702</td>\n",
       "    </tr>\n",
       "    <tr>\n",
       "      <th>4</th>\n",
       "      <td>1981-2000</td>\n",
       "      <td>385</td>\n",
       "    </tr>\n",
       "  </tbody>\n",
       "</table>\n",
       "</div>"
      ],
      "text/plain": [
       "  Year_Range  Frequency\n",
       "0  1892-1950        139\n",
       "1  1951-1960        480\n",
       "2  1961-1970        534\n",
       "3  1971-1980        702\n",
       "4  1981-2000        385"
      ]
     },
     "execution_count": 70,
     "metadata": {},
     "output_type": "execute_result"
    }
   ],
   "source": [
    "year_range = ['1892-1950', '1951-1960', '1961-1970', '1971-1980', '1981-2000']\n",
    "\n",
    "histo = pd.DataFrame(pd.cut(df['Year_Birth'],\n",
    "                            bins=[1892, 1950, 1960, 1970, 1980, 2000],\n",
    "                            labels=year_range))\n",
    "histo = pd.DataFrame(histo.value_counts())\n",
    "histo.reset_index(inplace=True)\n",
    "histo.columns = ['Year_Range', 'Frequency']\n",
    "histo.sort_values('Year_Range', inplace=True)\n",
    "histo.reset_index(inplace=True)\n",
    "histo.drop(columns='index', inplace=True)\n",
    "histo"
   ]
  },
  {
   "cell_type": "code",
   "execution_count": 73,
   "id": "ddb29ef2",
   "metadata": {},
   "outputs": [],
   "source": [
    "histo = histo.join(pd.DataFrame({'Width': [58, 10, 10, 10, 20]}), how=\"left\", )"
   ]
  },
  {
   "cell_type": "code",
   "execution_count": 74,
   "id": "502c3f69",
   "metadata": {},
   "outputs": [
    {
     "data": {
      "text/html": [
       "<div>\n",
       "<style scoped>\n",
       "    .dataframe tbody tr th:only-of-type {\n",
       "        vertical-align: middle;\n",
       "    }\n",
       "\n",
       "    .dataframe tbody tr th {\n",
       "        vertical-align: top;\n",
       "    }\n",
       "\n",
       "    .dataframe thead th {\n",
       "        text-align: right;\n",
       "    }\n",
       "</style>\n",
       "<table border=\"1\" class=\"dataframe\">\n",
       "  <thead>\n",
       "    <tr style=\"text-align: right;\">\n",
       "      <th></th>\n",
       "      <th>Year_Range</th>\n",
       "      <th>Frequency</th>\n",
       "      <th>Width</th>\n",
       "    </tr>\n",
       "  </thead>\n",
       "  <tbody>\n",
       "    <tr>\n",
       "      <th>0</th>\n",
       "      <td>1892-1950</td>\n",
       "      <td>139</td>\n",
       "      <td>58</td>\n",
       "    </tr>\n",
       "    <tr>\n",
       "      <th>1</th>\n",
       "      <td>1951-1960</td>\n",
       "      <td>480</td>\n",
       "      <td>10</td>\n",
       "    </tr>\n",
       "    <tr>\n",
       "      <th>2</th>\n",
       "      <td>1961-1970</td>\n",
       "      <td>534</td>\n",
       "      <td>10</td>\n",
       "    </tr>\n",
       "    <tr>\n",
       "      <th>3</th>\n",
       "      <td>1971-1980</td>\n",
       "      <td>702</td>\n",
       "      <td>10</td>\n",
       "    </tr>\n",
       "    <tr>\n",
       "      <th>4</th>\n",
       "      <td>1981-2000</td>\n",
       "      <td>385</td>\n",
       "      <td>20</td>\n",
       "    </tr>\n",
       "  </tbody>\n",
       "</table>\n",
       "</div>"
      ],
      "text/plain": [
       "  Year_Range  Frequency  Width\n",
       "0  1892-1950        139     58\n",
       "1  1951-1960        480     10\n",
       "2  1961-1970        534     10\n",
       "3  1971-1980        702     10\n",
       "4  1981-2000        385     20"
      ]
     },
     "execution_count": 74,
     "metadata": {},
     "output_type": "execute_result"
    }
   ],
   "source": [
    "histo"
   ]
  },
  {
   "cell_type": "code",
   "execution_count": 98,
   "id": "38dbac3f",
   "metadata": {},
   "outputs": [],
   "source": [
    "histo = histo.join(pd.DataFrame({'Freqency Density': round(histo['Frequency'] / histo['Width'], 3)}))"
   ]
  },
  {
   "cell_type": "code",
   "execution_count": 112,
   "id": "de78f80f",
   "metadata": {},
   "outputs": [
    {
     "data": {
      "image/png": "[encoded data removed]",
      "text/plain": [
       "<Figure size 864x576 with 1 Axes>"
      ]
     },
     "metadata": {
      "needs_background": "light"
     },
     "output_type": "display_data"
    }
   ],
   "source": [
    "year_edge = [1892, 1950, 1960, 1970, 1980, 2000]\n",
    "\n",
    "fig = plt.figure(figsize=(12, 8))\n",
    "ax = fig.add_subplot(1, 1, 1)\n",
    "\n",
    "plt.plot()\n",
    "plt.xlim(1890, 2002)\n",
    "plt.ylim(0, 80)\n",
    "for i in range(5):\n",
    "    area = mpl.patches.Rectangle((year_edge[i], 0), histo['Width'][i]-.5, histo['Freqency Density'][i], linewidth=1, color='teal')\n",
    "    ax.add_patch(area)\n",
    "\n",
    "# fig.show()"
   ]
  },
  {
   "cell_type": "code",
   "execution_count": null,
   "id": "f37ca445",
   "metadata": {},
   "outputs": [],
   "source": []
  }
 ],
 "metadata": {
  "kernelspec": {
   "display_name": "Python 3 (ipykernel)",
   "language": "python",
   "name": "python3"
  },
  "language_info": {
   "codemirror_mode": {
    "name": "ipython",
    "version": 3
   },
   "file_extension": ".py",
   "mimetype": "text/x-python",
   "name": "python",
   "nbconvert_exporter": "python",
   "pygments_lexer": "ipython3",
   "version": "3.9.7"
  }
 },
 "nbformat": 4,
 "nbformat_minor": 5
}
