{
 "cells": [
  {
   "attachments": {},
   "cell_type": "markdown",
   "id": "580062db",
   "metadata": {},
   "source": [
    "# 1 About this Notebook\n",
    "- This Notebook is to set the outline and structure of the `program` that plot Density Frequency Histogram.\n",
    "- I don't know if there is a better way to plot this graph, but I want to practise writing it myself."
   ]
  },
  {
   "cell_type": "markdown",
   "id": "92aa5c17",
   "metadata": {},
   "source": [
    "# 2 Definitions\n",
    "## 2.1 Define the Problem\n",
    "- Sometimes, we want to use a histogram with different interval widths (or just because we have no other choice), like this Data\n",
    "<img src='./images/data.png' />\n",
    "- But if we use the `frequency` for plotting, it look like this,\n",
    "<img src='./images/mislead-plot.png' />\n",
    "which can lead us to the wrong insight that the number of people playing from 10 to 24 hours a day is high.\n",
    "\n",
    "## 2.2 Solution\n",
    "- To solve this problem, we need to use a property of `Histogram`: **`the frequency is proportional to the area of each bar`**.\n",
    "- And instead of using the normal `frequency`, we will define a different kind of frequency called `Density Frequency`.\n",
    "<img src='./images/histo-bar.png' />\n",
    "- Each Bar is a rectangle whose `Area` is a multiplication of its `Width` and `Height`. We already have group's intervals as `Width` and `Frequency` as `Area`, then we can use them to calculate the `Height` as following: $Height = \\frac{Area}{Width}$\n",
    "- And as that, we have `Height` as what we call `Density Frequency`."
   ]
  },
  {
   "cell_type": "markdown",
   "id": "7196e886",
   "metadata": {},
   "source": [
    "# 3 Preparation"
   ]
  },
  {
   "cell_type": "code",
   "execution_count": 2,
   "id": "005f86f4",
   "metadata": {},
   "outputs": [],
   "source": [
    "# Import packages\n",
    "import pandas as pd\n",
    "import matplotlib as mpl\n",
    "import matplotlib.pyplot as plt"
   ]
  },
  {
   "cell_type": "code",
   "execution_count": 3,
   "id": "61531790",
   "metadata": {},
   "outputs": [
    {
     "data": {
      "text/html": [
       "<div>\n",
       "<style scoped>\n",
       "    .dataframe tbody tr th:only-of-type {\n",
       "        vertical-align: middle;\n",
       "    }\n",
       "\n",
       "    .dataframe tbody tr th {\n",
       "        vertical-align: top;\n",
       "    }\n",
       "\n",
       "    .dataframe thead th {\n",
       "        text-align: right;\n",
       "    }\n",
       "</style>\n",
       "<table border=\"1\" class=\"dataframe\">\n",
       "  <thead>\n",
       "    <tr style=\"text-align: right;\">\n",
       "      <th></th>\n",
       "      <th>Hours</th>\n",
       "      <th>Frequency</th>\n",
       "    </tr>\n",
       "  </thead>\n",
       "  <tbody>\n",
       "    <tr>\n",
       "      <th>0</th>\n",
       "      <td>0-1</td>\n",
       "      <td>4300</td>\n",
       "    </tr>\n",
       "    <tr>\n",
       "      <th>1</th>\n",
       "      <td>1-3</td>\n",
       "      <td>6900</td>\n",
       "    </tr>\n",
       "    <tr>\n",
       "      <th>2</th>\n",
       "      <td>3-5</td>\n",
       "      <td>4900</td>\n",
       "    </tr>\n",
       "    <tr>\n",
       "      <th>3</th>\n",
       "      <td>5-10</td>\n",
       "      <td>2000</td>\n",
       "    </tr>\n",
       "    <tr>\n",
       "      <th>4</th>\n",
       "      <td>10-24</td>\n",
       "      <td>2100</td>\n",
       "    </tr>\n",
       "  </tbody>\n",
       "</table>\n",
       "</div>"
      ],
      "text/plain": [
       "   Hours  Frequency\n",
       "0    0-1       4300\n",
       "1    1-3       6900\n",
       "2    3-5       4900\n",
       "3   5-10       2000\n",
       "4  10-24       2100"
      ]
     },
     "execution_count": 3,
     "metadata": {},
     "output_type": "execute_result"
    }
   ],
   "source": [
    "# Create an Example Dataset\n",
    "df = pd.DataFrame({'Hours': ['0-1', '1-3', '3-5', '5-10', '10-24'], \n",
    "                   'Frequency': [4300, 6900, 4900, 2000, 2100]})\n",
    "# Take a look\n",
    "df"
   ]
  },
  {
   "cell_type": "markdown",
   "id": "34468e79",
   "metadata": {},
   "source": [
    "# 4 Problem Solving\n",
    "## 4.1 Find essential Information: Width and Height\n",
    "- We will use the `Hour` Attribute to find the `Width`, then using `Width` and `Frequency` to find `Height`."
   ]
  },
  {
   "cell_type": "code",
   "execution_count": 12,
   "id": "fb9f31e6",
   "metadata": {},
   "outputs": [
    {
     "data": {
      "text/plain": [
       "[[0, 1], [1, 3], [3, 5], [5, 10], [10, 24]]"
      ]
     },
     "execution_count": 12,
     "metadata": {},
     "output_type": "execute_result"
    }
   ],
   "source": [
    "# Finding Group Width\n",
    "hours = [df['Hours'][i].split('-') for i in range(df.shape[0])]\n",
    "\n",
    "# Convert Hours to int\n",
    "for i in range(len(hours)):\n",
    "    for j in range(2):\n",
    "        hours[i][j] = int(hours[i][j])\n",
    "        \n",
    "hours"
   ]
  },
  {
   "cell_type": "markdown",
   "id": "6545d796",
   "metadata": {},
   "source": [
    "Now we have list `hours` stores pairs of group intervals, in which we can use to find `Width`"
   ]
  },
  {
   "cell_type": "code",
   "execution_count": 17,
   "id": "0f7115f9",
   "metadata": {},
   "outputs": [
    {
     "data": {
      "text/html": [
       "<div>\n",
       "<style scoped>\n",
       "    .dataframe tbody tr th:only-of-type {\n",
       "        vertical-align: middle;\n",
       "    }\n",
       "\n",
       "    .dataframe tbody tr th {\n",
       "        vertical-align: top;\n",
       "    }\n",
       "\n",
       "    .dataframe thead th {\n",
       "        text-align: right;\n",
       "    }\n",
       "</style>\n",
       "<table border=\"1\" class=\"dataframe\">\n",
       "  <thead>\n",
       "    <tr style=\"text-align: right;\">\n",
       "      <th></th>\n",
       "      <th>Hours</th>\n",
       "      <th>Frequency</th>\n",
       "      <th>Width</th>\n",
       "    </tr>\n",
       "  </thead>\n",
       "  <tbody>\n",
       "    <tr>\n",
       "      <th>0</th>\n",
       "      <td>0-1</td>\n",
       "      <td>4300</td>\n",
       "      <td>1</td>\n",
       "    </tr>\n",
       "    <tr>\n",
       "      <th>1</th>\n",
       "      <td>1-3</td>\n",
       "      <td>6900</td>\n",
       "      <td>2</td>\n",
       "    </tr>\n",
       "    <tr>\n",
       "      <th>2</th>\n",
       "      <td>3-5</td>\n",
       "      <td>4900</td>\n",
       "      <td>2</td>\n",
       "    </tr>\n",
       "    <tr>\n",
       "      <th>3</th>\n",
       "      <td>5-10</td>\n",
       "      <td>2000</td>\n",
       "      <td>5</td>\n",
       "    </tr>\n",
       "    <tr>\n",
       "      <th>4</th>\n",
       "      <td>10-24</td>\n",
       "      <td>2100</td>\n",
       "      <td>14</td>\n",
       "    </tr>\n",
       "  </tbody>\n",
       "</table>\n",
       "</div>"
      ],
      "text/plain": [
       "   Hours  Frequency  Width\n",
       "0    0-1       4300      1\n",
       "1    1-3       6900      2\n",
       "2    3-5       4900      2\n",
       "3   5-10       2000      5\n",
       "4  10-24       2100     14"
      ]
     },
     "execution_count": 17,
     "metadata": {},
     "output_type": "execute_result"
    }
   ],
   "source": [
    "df['Width'] = pd.DataFrame([hours[i][1] - hours[i][0] for i in range(len(hours))])\n",
    "df"
   ]
  },
  {
   "cell_type": "markdown",
   "id": "5edcae60",
   "metadata": {},
   "source": [
    "Now using `Width` and `Frequency` to find `Density Frequency`, but we will call it `Height` here."
   ]
  },
  {
   "cell_type": "code",
   "execution_count": 18,
   "id": "1b89e40b",
   "metadata": {},
   "outputs": [
    {
     "data": {
      "text/html": [
       "<div>\n",
       "<style scoped>\n",
       "    .dataframe tbody tr th:only-of-type {\n",
       "        vertical-align: middle;\n",
       "    }\n",
       "\n",
       "    .dataframe tbody tr th {\n",
       "        vertical-align: top;\n",
       "    }\n",
       "\n",
       "    .dataframe thead th {\n",
       "        text-align: right;\n",
       "    }\n",
       "</style>\n",
       "<table border=\"1\" class=\"dataframe\">\n",
       "  <thead>\n",
       "    <tr style=\"text-align: right;\">\n",
       "      <th></th>\n",
       "      <th>Hours</th>\n",
       "      <th>Frequency</th>\n",
       "      <th>Width</th>\n",
       "      <th>Height</th>\n",
       "    </tr>\n",
       "  </thead>\n",
       "  <tbody>\n",
       "    <tr>\n",
       "      <th>0</th>\n",
       "      <td>0-1</td>\n",
       "      <td>4300</td>\n",
       "      <td>1</td>\n",
       "      <td>4300.0</td>\n",
       "    </tr>\n",
       "    <tr>\n",
       "      <th>1</th>\n",
       "      <td>1-3</td>\n",
       "      <td>6900</td>\n",
       "      <td>2</td>\n",
       "      <td>3450.0</td>\n",
       "    </tr>\n",
       "    <tr>\n",
       "      <th>2</th>\n",
       "      <td>3-5</td>\n",
       "      <td>4900</td>\n",
       "      <td>2</td>\n",
       "      <td>2450.0</td>\n",
       "    </tr>\n",
       "    <tr>\n",
       "      <th>3</th>\n",
       "      <td>5-10</td>\n",
       "      <td>2000</td>\n",
       "      <td>5</td>\n",
       "      <td>400.0</td>\n",
       "    </tr>\n",
       "    <tr>\n",
       "      <th>4</th>\n",
       "      <td>10-24</td>\n",
       "      <td>2100</td>\n",
       "      <td>14</td>\n",
       "      <td>150.0</td>\n",
       "    </tr>\n",
       "  </tbody>\n",
       "</table>\n",
       "</div>"
      ],
      "text/plain": [
       "   Hours  Frequency  Width  Height\n",
       "0    0-1       4300      1  4300.0\n",
       "1    1-3       6900      2  3450.0\n",
       "2    3-5       4900      2  2450.0\n",
       "3   5-10       2000      5   400.0\n",
       "4  10-24       2100     14   150.0"
      ]
     },
     "execution_count": 18,
     "metadata": {},
     "output_type": "execute_result"
    }
   ],
   "source": [
    "df['Height'] = df['Frequency'] / df['Width']\n",
    "df"
   ]
  },
  {
   "cell_type": "markdown",
   "id": "8cdc1cff",
   "metadata": {},
   "source": [
    "We have everything we need, let's visualize it out."
   ]
  },
  {
   "cell_type": "markdown",
   "id": "6f48f42d",
   "metadata": {},
   "source": [
    "## 4.2 Visualization\n",
    "Instead of using `DataFrame.plot`, we don't do it here, we will draw each Bar manually using `matplotlib.patches.Rectangle`."
   ]
  },
  {
   "cell_type": "code",
   "execution_count": 38,
   "id": "1cd5f0a5",
   "metadata": {},
   "outputs": [
    {
     "data": {
      "text/plain": [
       "(0.0, 4515.0)"
      ]
     },
     "execution_count": 38,
     "metadata": {},
     "output_type": "execute_result"
    },
    {
     "data": {
      "image/png": "[encoded data removed]",
      "text/plain": [
       "<Figure size 1440x720 with 1 Axes>"
      ]
     },
     "metadata": {
      "needs_background": "light"
     },
     "output_type": "display_data"
    }
   ],
   "source": [
    "fig = plt.figure(figsize=(20, 10))\n",
    "ax = fig.add_subplot(1, 1, 1)\n",
    "\n",
    "# Don't really know why but without this the Plot dont' show :(\n",
    "plt.plot()\n",
    "\n",
    "for i in range(df.shape[0]):\n",
    "    bar = mpl.patches.Rectangle((hours[i][0], 0), df['Width'][i], df['Height'][i], color='teal')\n",
    "    ax.add_patch(bar)\n",
    "    \n",
    "ax.set_xlim(left=0)\n",
    "ax.set_ylim(bottom=0)"
   ]
  },
  {
   "cell_type": "markdown",
   "id": "db7a681e",
   "metadata": {},
   "source": [
    "**Observations:**\n",
    "- The Graph look better now, and instead of misleading us it now shows us the right thing: Not many people play between 10 and 24 hours a day."
   ]
  },
  {
   "cell_type": "markdown",
   "id": "f46f7dca",
   "metadata": {},
   "source": [
    "But our Program is not generalized, and it's a future story, I will do it later. Now it's done here."
   ]
  }
 ],
 "metadata": {
  "kernelspec": {
   "display_name": "Python 3 (ipykernel)",
   "language": "python",
   "name": "python3"
  },
  "language_info": {
   "codemirror_mode": {
    "name": "ipython",
    "version": 3
   },
   "file_extension": ".py",
   "mimetype": "text/x-python",
   "name": "python",
   "nbconvert_exporter": "python",
   "pygments_lexer": "ipython3",
   "version": "3.9.7"
  }
 },
 "nbformat": 4,
 "nbformat_minor": 5
}
