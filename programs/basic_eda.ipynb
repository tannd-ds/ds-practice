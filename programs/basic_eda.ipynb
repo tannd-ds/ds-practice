{
 "cells": [
  {
   "cell_type": "markdown",
   "id": "5d0848f4",
   "metadata": {},
   "source": [
    "# A Programme for Basic EDA Process\n",
    "- Doing the Basic EDA over and over again is really boring and discoraging. Some time I have some descent ideas or projects that I want to do, but thinking about all little boring (yet importatnt) basic things makes me tired. And here we go, a Basic Programme yet powerful here to solve the problem!\n",
    "- I will try writing functions in this Notebook first, since it can be easily debugged, then copy them into a different `.py` file, which is the final Programme.\n",
    "- I will used this as a reference - I think it basically contains everything I need for now.\n",
    "<img src='./images/eda-process-reference.jpg'/>"
   ]
  },
  {
   "cell_type": "code",
   "execution_count": 1,
   "id": "5c7f7eae",
   "metadata": {},
   "outputs": [],
   "source": [
    "# Import essential packages\n",
    "import os\n",
    "import numpy as np\n",
    "import pandas as pd\n",
    "import matplotlib as mpl\n",
    "import matplotlib.pyplot as plt"
   ]
  },
  {
   "cell_type": "code",
   "execution_count": 42,
   "id": "eee478d9",
   "metadata": {},
   "outputs": [],
   "source": [
    "class EDABasics:\n",
    "    def __init__(self, df, level=0):\n",
    "        self.df = df\n",
    "        self.level = level\n",
    "    def rename_columns(self, case='none', columns=[]):\n",
    "        \"\"\"\n",
    "        Rename Data's Column names into desired names (or case style)\n",
    "        Parameters:\n",
    "          case: The desired case, can be none (for no update), camelCase, PascalCase, snake_case, SNAKE_CASE and kebal-case (each case need to be written in its case style).\n",
    "          columns: list of columns name. If this is set, the programme will use it to name the columns instead of changing case style.\n",
    "          \n",
    "        \"\"\"\n",
    "        # Change to desired name\n",
    "        if columns != [] and len(columns) == len(self.df.columns):\n",
    "            # Strim abundant spaces before using\n",
    "            [col.strip() for col in columns]\n",
    "            self.df.columns = columns\n",
    "        \n",
    "        # Change to desired case style\n",
    "        else: \n",
    "            col_names = self.df.columns\n",
    "            [col_name.strip() for col_name in col_names]\n",
    "            \n",
    "            if case == 'camelCase' or case == 'PascalCase':\n",
    "                # Upper first character of each word\n",
    "                col_names = [col_name.title() for col_name in col_names]\n",
    "                # Lower the first Character if it's camelCase\n",
    "                if case == 'camelCase':\n",
    "                    col_names = [col_name[0].lower() + col_name[1:] for col_name in col_names]\n",
    "                # remove spaces\n",
    "                col_names = [col_name.replace(' ', '') for col_name in col_names]\n",
    "\n",
    "            elif case == 'snake_case' or case == 'kebal-case':\n",
    "                col_names = [col_name.lower() for col_name in col_names]\n",
    "                # replace spaces with delimiter\n",
    "                if case == 'snake_case':\n",
    "                    col_names = [col_name.replace(' ', '_') for col_name in col_names]\n",
    "                else:\n",
    "                    col_names = [col_name.replace(' ', '-') for col_name in col_names]\n",
    "\n",
    "            elif case == 'SNAKE_CASE': \n",
    "                col_names = [col_name.upper() for col_name in col_names]\n",
    "                # replace spaces with delimiter\n",
    "                col_names = [col_name.replace(' ', '_') for col_name in col_names]\n",
    "\n",
    "            self.df.columns = col_names\n",
    "            \n",
    "    def show_data_info(self, ):\n",
    "        print('Number of Rows: {}'.format(self.df.shape[0]))\n",
    "        print('Number of Cols: {}'.format(self.df.shape[1]))\n",
    "        self.df.info()\n",
    "            \n",
    "    def run(self, ):\n",
    "        # Rename Process\n",
    "        print('Run Rename Process...')\n",
    "        self.case = input('Which Case? ')\n",
    "        self.rename_columns(case = self.case)\n",
    "        \n",
    "        # Showing Basic Data Info Process\n",
    "        print('Showing Data Information...')\n",
    "        self.show_data_info()"
   ]
  },
  {
   "cell_type": "code",
   "execution_count": 25,
   "id": "b9e83ad3",
   "metadata": {},
   "outputs": [],
   "source": [
    "df = pd.read_csv('./datasets/test.csv')"
   ]
  },
  {
   "cell_type": "code",
   "execution_count": 30,
   "id": "6898b24c",
   "metadata": {},
   "outputs": [
    {
     "data": {
      "text/html": [
       "<div>\n",
       "<style scoped>\n",
       "    .dataframe tbody tr th:only-of-type {\n",
       "        vertical-align: middle;\n",
       "    }\n",
       "\n",
       "    .dataframe tbody tr th {\n",
       "        vertical-align: top;\n",
       "    }\n",
       "\n",
       "    .dataframe thead th {\n",
       "        text-align: right;\n",
       "    }\n",
       "</style>\n",
       "<table border=\"1\" class=\"dataframe\">\n",
       "  <thead>\n",
       "    <tr style=\"text-align: right;\">\n",
       "      <th></th>\n",
       "      <th>col1 sth</th>\n",
       "      <th>col2 sth</th>\n",
       "      <th>col3 sth</th>\n",
       "      <th>col3 sth.1</th>\n",
       "    </tr>\n",
       "  </thead>\n",
       "  <tbody>\n",
       "    <tr>\n",
       "      <th>0</th>\n",
       "      <td>12</td>\n",
       "      <td>long</td>\n",
       "      <td>3</td>\n",
       "      <td>1</td>\n",
       "    </tr>\n",
       "    <tr>\n",
       "      <th>1</th>\n",
       "      <td>44</td>\n",
       "      <td>short</td>\n",
       "      <td>55</td>\n",
       "      <td>2</td>\n",
       "    </tr>\n",
       "    <tr>\n",
       "      <th>2</th>\n",
       "      <td>7</td>\n",
       "      <td>shortter</td>\n",
       "      <td>2</td>\n",
       "      <td>3</td>\n",
       "    </tr>\n",
       "    <tr>\n",
       "      <th>3</th>\n",
       "      <td>42</td>\n",
       "      <td>nothing</td>\n",
       "      <td>33</td>\n",
       "      <td>4</td>\n",
       "    </tr>\n",
       "  </tbody>\n",
       "</table>\n",
       "</div>"
      ],
      "text/plain": [
       "   col1 sth  col2 sth  col3 sth  col3 sth.1\n",
       "0        12      long         3           1\n",
       "1        44     short        55           2\n",
       "2         7  shortter         2           3\n",
       "3        42   nothing        33           4"
      ]
     },
     "execution_count": 30,
     "metadata": {},
     "output_type": "execute_result"
    }
   ],
   "source": [
    "df"
   ]
  },
  {
   "cell_type": "code",
   "execution_count": 43,
   "id": "61539e8a",
   "metadata": {},
   "outputs": [],
   "source": [
    "eda = EDABasics(df.copy())"
   ]
  },
  {
   "cell_type": "code",
   "execution_count": 44,
   "id": "cdf9e3b4",
   "metadata": {},
   "outputs": [
    {
     "name": "stdout",
     "output_type": "stream",
     "text": [
      "Run Rename Process...\n",
      "Which Case? snake_case\n",
      "Showing Data Information...\n",
      "Number of Rows: 4\n",
      "Number of Cols: 4\n",
      "<class 'pandas.core.frame.DataFrame'>\n",
      "RangeIndex: 4 entries, 0 to 3\n",
      "Data columns (total 4 columns):\n",
      " #   Column      Non-Null Count  Dtype \n",
      "---  ------      --------------  ----- \n",
      " 0   col1_sth    4 non-null      int64 \n",
      " 1   col2_sth    4 non-null      object\n",
      " 2   col3_sth    4 non-null      int64 \n",
      " 3   col3_sth.1  4 non-null      int64 \n",
      "dtypes: int64(3), object(1)\n",
      "memory usage: 256.0+ bytes\n"
     ]
    }
   ],
   "source": [
    "eda.run()"
   ]
  },
  {
   "cell_type": "code",
   "execution_count": null,
   "id": "deedaeac",
   "metadata": {},
   "outputs": [],
   "source": []
  }
 ],
 "metadata": {
  "kernelspec": {
   "display_name": "Python 3 (ipykernel)",
   "language": "python",
   "name": "python3"
  },
  "language_info": {
   "codemirror_mode": {
    "name": "ipython",
    "version": 3
   },
   "file_extension": ".py",
   "mimetype": "text/x-python",
   "name": "python",
   "nbconvert_exporter": "python",
   "pygments_lexer": "ipython3",
   "version": "3.9.7"
  }
 },
 "nbformat": 4,
 "nbformat_minor": 5
}
