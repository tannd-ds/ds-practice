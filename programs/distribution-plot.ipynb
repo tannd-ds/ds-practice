{
 "cells": [
  {
   "cell_type": "code",
   "execution_count": 1,
   "id": "08312c0c",
   "metadata": {},
   "outputs": [],
   "source": [
    "# Import essential packages\n",
    "import os\n",
    "import numpy as np\n",
    "import pandas as pd\n",
    "import matplotlib as mpl\n",
    "import matplotlib.pyplot as plt"
   ]
  },
  {
   "cell_type": "markdown",
   "id": "24bbb6fe",
   "metadata": {},
   "source": [
    "## 1 Which kind of Data is plotable?\n",
    "\n",
    "At this point (23/09/2021), I identify 3 kinds of Data that are plotable:\n",
    "- Data type Number (`int` or `float`, or in general, not string `object`) with many unique values $\\rightarrow$ Use Histogram.\n",
    "- Data type Number with few unique values (I choose the threshold is `<= 10`) $\\rightarrow$ Use Bar Plot.\n",
    "- Data type String with few unique values $\\rightarrow$ Use Bar Plot."
   ]
  },
  {
   "cell_type": "markdown",
   "id": "77ba81eb",
   "metadata": {},
   "source": [
    "### 1.1 Mathematics Logic Definition & Proof for Our Condition\n",
    "If we define the following statements:\n",
    "- `p` : Data type String.\n",
    "- `q` : Data with less than or equal to 10 unique values.\n",
    "\n",
    "Then we have following statements consequently:\n",
    "- `~p`: Data type different than String (which is Number).\n",
    "- `~q`: Data with more than 10 unique values.\n",
    "\n",
    "Now we have the condition for Data to be plotable: Data type Number, or Data type String with less than or equal to 10 unique values, or systematically, `Data type different than String, or Data type String and Data with less than or equal to 10 unique values.`. Symbolically:\n",
    "- $\\neg p \\vee (p \\wedge q)$\n",
    "\n",
    "And with some basic logic:\n",
    "\n",
    "$\\neg p \\vee (p \\wedge q)$\n",
    "\n",
    "$= (\\neg p \\vee p) \\wedge (\\neg p \\vee q)$ ***`(Distributive Laws)`***\n",
    "\n",
    "$= t \\wedge (\\neg p \\vee q)$ ***`(Negation Laws)`***\n",
    "\n",
    "$= \\neg p \\vee r$ ***`(Identity Laws)`***\n",
    "\n",
    "So finally, we have the plotable condition: `Data type different than string and less than or equal to 10 unique values`, much shorter and easier to write."
   ]
  },
  {
   "cell_type": "code",
   "execution_count": 5,
   "id": "9f385cc9",
   "metadata": {},
   "outputs": [],
   "source": [
    "def distribution_plot(df):\n",
    "    plotable_col = [] # Contain all columns name whose data is plotable\n",
    "    for col in df.columns:\n",
    "        # Pass Id Col (if there is), we don't want to plot such a thing\n",
    "        if len(df[col].unique()) == df[col].shape[0]:\n",
    "            continue\n",
    "        # Identify Plotable Data (columns)\n",
    "        if df[col].dtype != 'object' and len(df[col].unique()):\n",
    "            plotable_col.append(col)\n",
    "            \n",
    "    print(plotable_col)\n",
    "    \n",
    "    fig = plt.figure(figsize=(16, 16))\n",
    "    fig.add_gridspec()"
   ]
  },
  {
   "cell_type": "code",
   "execution_count": 6,
   "id": "d6a581c3",
   "metadata": {},
   "outputs": [],
   "source": [
    "df = pd.read_csv('./datasets/titanic_train.csv')"
   ]
  },
  {
   "cell_type": "code",
   "execution_count": 7,
   "id": "aaf77718",
   "metadata": {},
   "outputs": [
    {
     "name": "stdout",
     "output_type": "stream",
     "text": [
      "['Survived', 'Pclass', 'Age', 'SibSp', 'Parch', 'Fare']\n"
     ]
    }
   ],
   "source": [
    "distribution_plot(df)"
   ]
  },
  {
   "cell_type": "code",
   "execution_count": null,
   "id": "562febea",
   "metadata": {},
   "outputs": [],
   "source": []
  }
 ],
 "metadata": {
  "kernelspec": {
   "display_name": "Python 3 (ipykernel)",
   "language": "python",
   "name": "python3"
  },
  "language_info": {
   "codemirror_mode": {
    "name": "ipython",
    "version": 3
   },
   "file_extension": ".py",
   "mimetype": "text/x-python",
   "name": "python",
   "nbconvert_exporter": "python",
   "pygments_lexer": "ipython3",
   "version": "3.9.7"
  }
 },
 "nbformat": 4,
 "nbformat_minor": 5
}
