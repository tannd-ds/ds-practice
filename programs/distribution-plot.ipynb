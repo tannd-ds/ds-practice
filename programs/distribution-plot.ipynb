{
 "cells": [
  {
   "cell_type": "code",
   "execution_count": 1,
   "id": "08312c0c",
   "metadata": {},
   "outputs": [],
   "source": [
    "# Import essential packages\n",
    "import os\n",
    "import numpy as np\n",
    "import pandas as pd\n",
    "import matplotlib as mpl\n",
    "import matplotlib.pyplot as plt"
   ]
  },
  {
   "cell_type": "markdown",
   "id": "24bbb6fe",
   "metadata": {},
   "source": [
    "## 1 Which kind of Data is plotable?\n",
    "\n",
    "At this point (23/09/2021), I identify 3 kinds of Data that are plotable:\n",
    "- Data type Number (`int` or `float`, or in general, not string `object`) with many unique values $\\rightarrow$ Use Histogram.\n",
    "- Data type Number with few unique values (I choose the threshold is `<= 10`) $\\rightarrow$ Use Bar Plot.\n",
    "- Data type String with few unique values $\\rightarrow$ Use Bar Plot."
   ]
  },
  {
   "cell_type": "markdown",
   "id": "77ba81eb",
   "metadata": {},
   "source": [
    "### 1.1 Mathematics Logic Definition & Proof for Our Condition\n",
    "If we define the following statements:\n",
    "- `p` : Data type String.\n",
    "- `q` : Data with less than or equal to 10 unique values.\n",
    "\n",
    "Then we have following statements consequently:\n",
    "- `~p`: Data type different than String (which is Number).\n",
    "- `~q`: Data with more than 10 unique values.\n",
    "\n",
    "Now we have the condition for Data to be plotable: Data type Number, or Data type String with less than or equal to 10 unique values, or systematically, `Data type different than String, or Data type String and Data with less than or equal to 10 unique values.`. Symbolically:\n",
    "- $\\neg p \\vee (p \\wedge q)$\n",
    "\n",
    "And with some basic logic:\n",
    "\n",
    "$\\neg p \\vee (p \\wedge q)$\n",
    "\n",
    "$= (\\neg p \\vee p) \\wedge (\\neg p \\vee q)$ ***`(Distributive Laws)`***\n",
    "\n",
    "$= t \\wedge (\\neg p \\vee q)$ ***`(Negation Laws)`***\n",
    "\n",
    "$= \\neg p \\vee r$ ***`(Identity Laws)`***\n",
    "\n",
    "So finally, we have the plotable condition: `Data type different than string and less than or equal to 10 unique values`, much shorter and easier to write."
   ]
  },
  {
   "cell_type": "code",
   "execution_count": 26,
   "id": "9f385cc9",
   "metadata": {},
   "outputs": [],
   "source": [
    "def distribution_plot(df):\n",
    "    plotable_col = [] # Contain all columns name whose data is plotable\n",
    "    for col in df.columns:\n",
    "        # Pass Id Col (if there is)\n",
    "        if len(df[col].unique()) == df[col].shape[0]:\n",
    "            pass\n",
    "        # Identify Plotable Data (columns)\n",
    "        if df[col].dtype != 'object' and len(df[col].unique()):\n",
    "            plotable_col.append(col)\n",
    "            \n",
    "    print(plotable_col)"
   ]
  },
  {
   "cell_type": "code",
   "execution_count": 24,
   "id": "d6a581c3",
   "metadata": {},
   "outputs": [],
   "source": [
    "df = pd.read_csv('./datasets/titanic_train.csv')"
   ]
  },
  {
   "cell_type": "code",
   "execution_count": 25,
   "id": "aaf77718",
   "metadata": {},
   "outputs": [
    {
     "name": "stdout",
     "output_type": "stream",
     "text": [
      "PassengerId 891 891\n",
      "Name 891 891\n",
      "['PassengerId', 'Survived', 'Pclass', 'Age', 'SibSp', 'Parch', 'Fare']\n"
     ]
    }
   ],
   "source": [
    "distribution_plot(df)"
   ]
  },
  {
   "cell_type": "code",
   "execution_count": 27,
   "id": "a1679247",
   "metadata": {},
   "outputs": [
    {
     "name": "stdout",
     "output_type": "stream",
     "text": [
      "> \u001b[1;32mc:\\users\\donha\\appdata\\local\\programs\\python\\python39\\lib\\site-packages\\ipython\\core\\compilerop.py\u001b[0m(101)\u001b[0;36mast_parse\u001b[1;34m()\u001b[0m\n",
      "\u001b[1;32m     99 \u001b[1;33m        \u001b[0mArguments\u001b[0m \u001b[0mare\u001b[0m \u001b[0mexactly\u001b[0m \u001b[0mthe\u001b[0m \u001b[0msame\u001b[0m \u001b[1;32mas\u001b[0m \u001b[0mast\u001b[0m\u001b[1;33m.\u001b[0m\u001b[0mparse\u001b[0m \u001b[1;33m(\u001b[0m\u001b[1;32min\u001b[0m \u001b[0mthe\u001b[0m \u001b[0mstandard\u001b[0m \u001b[0mlibrary\u001b[0m\u001b[1;33m)\u001b[0m\u001b[1;33m,\u001b[0m\u001b[1;33m\u001b[0m\u001b[1;33m\u001b[0m\u001b[0m\n",
      "\u001b[0m\u001b[1;32m    100 \u001b[1;33m        and are passed to the built-in compile function.\"\"\"\n",
      "\u001b[0m\u001b[1;32m--> 101 \u001b[1;33m        \u001b[1;32mreturn\u001b[0m \u001b[0mcompile\u001b[0m\u001b[1;33m(\u001b[0m\u001b[0msource\u001b[0m\u001b[1;33m,\u001b[0m \u001b[0mfilename\u001b[0m\u001b[1;33m,\u001b[0m \u001b[0msymbol\u001b[0m\u001b[1;33m,\u001b[0m \u001b[0mself\u001b[0m\u001b[1;33m.\u001b[0m\u001b[0mflags\u001b[0m \u001b[1;33m|\u001b[0m \u001b[0mPyCF_ONLY_AST\u001b[0m\u001b[1;33m,\u001b[0m \u001b[1;36m1\u001b[0m\u001b[1;33m)\u001b[0m\u001b[1;33m\u001b[0m\u001b[1;33m\u001b[0m\u001b[0m\n",
      "\u001b[0m\u001b[1;32m    102 \u001b[1;33m\u001b[1;33m\u001b[0m\u001b[0m\n",
      "\u001b[0m\u001b[1;32m    103 \u001b[1;33m    \u001b[1;32mdef\u001b[0m \u001b[0mreset_compiler_flags\u001b[0m\u001b[1;33m(\u001b[0m\u001b[0mself\u001b[0m\u001b[1;33m)\u001b[0m\u001b[1;33m:\u001b[0m\u001b[1;33m\u001b[0m\u001b[1;33m\u001b[0m\u001b[0m\n",
      "\u001b[0m\n",
      "ipdb> \n",
      "ipdb> \n",
      "ipdb> \n",
      "ipdb> \n",
      "ipdb> \n",
      "ipdb> \n",
      "ipdb> \n",
      "ipdb> \n",
      "ipdb> \n",
      "ipdb> \n",
      "ipdb> \n",
      "ipdb> \n",
      "ipdb> \n",
      "ipdb> n\n"
     ]
    }
   ],
   "source": [
    "%debug"
   ]
  },
  {
   "cell_type": "code",
   "execution_count": null,
   "id": "049f8df2",
   "metadata": {},
   "outputs": [],
   "source": []
  }
 ],
 "metadata": {
  "kernelspec": {
   "display_name": "Python 3 (ipykernel)",
   "language": "python",
   "name": "python3"
  },
  "language_info": {
   "codemirror_mode": {
    "name": "ipython",
    "version": 3
   },
   "file_extension": ".py",
   "mimetype": "text/x-python",
   "name": "python",
   "nbconvert_exporter": "python",
   "pygments_lexer": "ipython3",
   "version": "3.9.7"
  }
 },
 "nbformat": 4,
 "nbformat_minor": 5
}
